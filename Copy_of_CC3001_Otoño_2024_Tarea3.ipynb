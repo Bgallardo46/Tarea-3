{
  "nbformat": 4,
  "nbformat_minor": 0,
  "metadata": {
    "colab": {
      "provenance": [],
      "include_colab_link": true
    },
    "kernelspec": {
      "name": "python3",
      "display_name": "Python 3"
    },
    "language_info": {
      "name": "python"
    }
  },
  "cells": [
    {
      "cell_type": "markdown",
      "metadata": {
        "id": "view-in-github",
        "colab_type": "text"
      },
      "source": [
        "<a href=\"https://colab.research.google.com/github/Bgallardo46/Tarea-3/blob/main/Copy_of_CC3001_Oto%C3%B1o_2024_Tarea3.ipynb\" target=\"_parent\"><img src=\"https://colab.research.google.com/assets/colab-badge.svg\" alt=\"Open In Colab\"/></a>"
      ]
    },
    {
      "cell_type": "markdown",
      "source": [
        "# CC3001 Otoño 2024 Tarea 3  Benjamin Gallardo\n",
        "\n",
        "\n",
        "# Calculadora\n",
        "\n",
        "### Profesores\n",
        "Sección 1 Patricio Poblete, Nelson Baloian ;\n",
        "Sección 2 Alejandro Quijada, Nelson Baloian  \n",
        "\n",
        "Atención: la forma de entrega tiene requisitos levemente distintos esta vez\n",
        "\n",
        "\n"
      ],
      "metadata": {
        "id": "v5Mdk3Z7uxJU"
      }
    },
    {
      "cell_type": "markdown",
      "source": [
        "# Enunciado\n",
        "\n",
        "Esta tarea consiste en desarrollar una calculadora de expresiones matemáticas al estilo Matlab o Maple, pero con capacidad de procesar un conjunto de comandos bien restringido. Algunos ejemplos de los comandos que acepta y de lo que debe imprimir en la salida van a continuación:\n",
        "\n",
        "|Entrada (lo que el usuario escribe)   | Salida(lo que imprime el programa)  |\n",
        "|---|---|\n",
        "|n=5   | n=5 |\n",
        "|   | 5 |\n",
        "|hanoi=2^n-1    |hanoi = 2^n-1  |\n",
        "|    |31   |\n",
        "|var_1 = 23 - 13 + hanoi * 2    |var_1 = 23 - 13 + hanoi * 2   |\n",
        "|    | 82   |\n",
        "|h2 = hanoi /2   |h2 = hanoi /2 |\n",
        "|   | 15   |\n",
        "|var_2 = (2+n)*2   |var_2 = (2+n)*2    |\n",
        "|   | 14   |\n",
        "|var_3 = ((1+n)/2 +3)^2   |var_3 = ((1+n)/2 +3)^2   |\n",
        "|   | 36   |\n",
        "|n   |n   |\n",
        "|  | 5   |\n",
        "\n",
        "A continuación definimos más en detalle lo que se debe implementar:\n",
        "\n",
        "\n",
        "\n",
        "1.   Cada comando es de la forma \"variable=expresión\". El efecto es que primero se debe imprimir el comando y luego se debe calcular la expresión de la derecha, guardar el resultado en la variable de la izquierda e imprimir el resultado en la salida. Si se omite desde el \"=\" hacia adelante (como en el último ejemplo), solo se imprime el valor de la variable. Las variables comienzan con letra y continúan con letras, dígitos y el signo \"_\".\n",
        "2.   Los operadores permitidos son \"+\",\"-\",\"*\", \"/\", \"^\".\n",
        "3.   Solo se trabaja con números enteros y todas las operaciones dan resultado entero (incluyendo la división, que trunca).\n",
        "4.   Se puede usar paréntesis, y si no los hay, la expresión se evalúa estrictamente de izquierda a derecha. Eso explica el resultado que se obtiene para \"var_1\", no hay prioridad de operadores. Pueden venir paréntesis anidados (ver ejemplos)\n",
        "\n",
        "  **Nota**: Se puede optar por el 70% de la nota si se implementa todo lo solicitado salvo el manejo de paréntesis. En este caso, las expresiones se evaluarán estrictamente de izquierda a derecha sin considerar la prioridad de operadores, y no se permitirá el uso de paréntesis en las expresiones.\n",
        "\n",
        "5.   Si se utiliza una variable que aún no ha sido definida, se debe dar un error\n",
        "\n",
        "      ERROR: variable indefinida \"...\"\n",
        "\n",
        "6.   Si la sintaxis no es correcta, se debe imprimir en la salida un mensaje de la forma\n",
        "\n",
        "      ERROR: al procesar \"...\"\n",
        "\n",
        "      donde el string que se imprime es la parte de la entrada desde el punto del error hacia adelante.\n",
        "\n",
        "\n",
        "Antes de empezar a escribir código, usted debe dibujar un diagrama de estados que describa la estructura de la entrada. Si le resulta más conveniente, pueden ser varios diagramas (por ejemplo, uno que describa la estructura de una variable, otro la de un número, otra la de un comando). Luego, a partir de ahí escriba el código que implementa esos diagramas. **Importante:** Su código debe ir procesando de un caracter a la vez, para este procesamiento no se puede utilizar funciones de Python que operen sobre strings de largo mayor que uno. Se recomienda tener una función que reciba un comando en un string y lo procese, y otra que reciba una lista de comandos y vaya invocando a la función antes mencionada para procesarlos.\n",
        "\n",
        "Para almacenar los nombres y valores de las variables, está permitido el uso de un diccionario de Python.\n",
        "\n",
        "En su entrega debe describir brevemente el problema, luego describir la estrategia de solución haciendo referencia a su(s) diagrama(s) de estados, y a continuación el código ejecutable respectivo, agregando todas las explicaciones necesarias para que se entienda.\n",
        "\n"
      ],
      "metadata": {
        "id": "cOin18Qr5Y2U"
      }
    },
    {
      "cell_type": "code",
      "source": [
        "def operar(numizq,numder,operacion):\n",
        "  if operacion==\"+\":\n",
        "    Resultado=int(numizq)+int(numder)\n",
        "  elif operacion==\"-\":\n",
        "    Resultado=int(numizq)-int(numder)\n",
        "  elif operacion==\"*\":\n",
        "    Resultado=int(numizq)*int(numder)\n",
        "  elif operacion==\"/\":\n",
        "    Resultado=int(numizq)//int(numder)\n",
        "  elif operacion==\"^\":\n",
        "    Resultado=int(numizq)**int(numder)\n",
        "  return Resultado"
      ],
      "metadata": {
        "id": "I8YrOOEeY7ow"
      },
      "execution_count": 189,
      "outputs": []
    },
    {
      "cell_type": "code",
      "source": [
        "def Separar(comando):\n",
        "  Parteizq=\"\"\n",
        "  Parteder=\"\"\n",
        "  ESTADO=\"Parteizq\"\n",
        "  Tipo=\"\"\n",
        "  for i in comando:\n",
        "    if ESTADO==\"Parteder\":\n",
        "      Parteder+=i\n",
        "    if i in \"=+-*/^\":\n",
        "      ESTADO=\"Parteder\"\n",
        "      Tipo=i\n",
        "    if ESTADO==\"Parteizq\":\n",
        "      Parteizq+=i\n",
        "\n",
        "\n",
        "  if Tipo in \"+-*/^\":\n",
        "    Cola=operar(Parteizq,Parteder,Tipo)\n",
        "    return Cola\n",
        "  if Tipo == \"=\":\n",
        "    return [Parteizq,Parteder]\n",
        "\n",
        "\n",
        "\n",
        "\n"
      ],
      "metadata": {
        "id": "aVoVh6QyaLGZ"
      },
      "execution_count": 191,
      "outputs": []
    },
    {
      "cell_type": "code",
      "source": [
        "a=Separar(\"5435+4324\")\n",
        "\n",
        "b=Separar(\"4324=5325\")\n",
        "\n",
        "print(b)\n",
        "print(a)"
      ],
      "metadata": {
        "colab": {
          "base_uri": "https://localhost:8080/"
        },
        "id": "7UiFTYB-ivSe",
        "outputId": "5116820d-26f0-4b63-bf7b-e9309969600b"
      },
      "execution_count": 187,
      "outputs": [
        {
          "output_type": "stream",
          "name": "stdout",
          "text": [
            "['4324', '5325', '=']\n",
            "9759\n"
          ]
        }
      ]
    },
    {
      "cell_type": "code",
      "source": [
        "def procesar_expresion(expresion):\n",
        "  numizq=\"\"\n",
        "  numder=\"\"\n",
        "  variable=\"\"\n",
        "  i=0\n",
        "  ESTADO=\"Parte derecha\"\n",
        "  while i < len(expresion):\n",
        "    if ESTADO==\"Parte derecha\":\n",
        "      if expresion[i].isalpha():\n",
        "        ESTADO==\"Guardando variable\"\n",
        "        variable+=expresion[i]\n",
        "      if expresion[i] in \"+-*/^\":\n",
        "        False\n",
        "      else:\n",
        "       numder+=expresion[i]\n",
        "       print(numder)\n",
        "\n",
        "    if ESTADO==\"Parte izquierda\":\n",
        "      if expresion[i].isalpha():\n",
        "        ESTADO==\"Guardando variable\"\n",
        "        variable+=expresion[i]\n",
        "      else:\n",
        "        numizq+=expresion[i]\n",
        "    print(numizq)\n",
        "    print(numder)\n",
        "\n",
        "    i+=1\n",
        "\n",
        "procesar_expresion(\"32+5\")\n",
        "\n",
        "\n"
      ],
      "metadata": {
        "colab": {
          "base_uri": "https://localhost:8080/"
        },
        "id": "p8SeqN7FbHMY",
        "outputId": "afb564ce-9ce6-47fe-e6d4-7b69e07a32d7"
      },
      "execution_count": 112,
      "outputs": [
        {
          "output_type": "stream",
          "name": "stdout",
          "text": [
            "3\n",
            "\n",
            "3\n",
            "32\n",
            "\n",
            "32\n",
            "\n",
            "32\n",
            "325\n",
            "\n",
            "325\n"
          ]
        }
      ]
    },
    {
      "cell_type": "code",
      "source": [
        "# Esta función recibe un comando en string y el diccionario de variables. Con él,\n",
        "# procesa el comando, imprime el resultado de la expresion\n",
        "# y posiblemente modifica el diccionario. La función retorna el diccionario\n",
        "\n",
        "def procesar_comando(comando, dicc_var):\n",
        "  SepararComando(comando)\n",
        "\n",
        "  ESTADO=\"buscando accion\"\n",
        "\n",
        "  primernumero=\"\"\n",
        "  segundonumero=\"\"\n",
        "  evalvarder=\"\"\n",
        "  evalvarizq=\"\"\n",
        "  i=0\n",
        "\n",
        "  for i in expresion:\n",
        "\n",
        "    if ESTADO2== \"operando\" and i in \"+-*/^\": #Tipos de operacioness\n",
        "      operar(primernumero,segundonumero,operacion)\n",
        "      ESTADO2=\"buscando accion\"\n",
        "      segundonumero=\"\"\n",
        "\n",
        "\n",
        "    if ESTADO2== \"operando\" and not i.isalpha(): # Añadimos un digito del numero 2\n",
        "      segundonumero+=i\n",
        "\n",
        "\n",
        "\n",
        "    if (ESTADO2== \"buscando accion\" or ESTADO2== \"EVALUANDOVARIABLEizq\") and (i == \"+\" or i== \"-\" or i== \"*\" or i==\"/\" or i== \"^\"): # Definimos/seteamos la operación\n",
        "      operacion=i\n",
        "      ESTADO2= \"operando\"\n",
        "\n",
        "\n",
        "    if ESTADO2==\"buscando accion\" and not i.isalpha(): #Añadimos un digito del numero 1\n",
        "      primernumero+=i\n",
        "\n",
        "\n",
        "\n",
        "    #if ESTADO2==\"EVALUANDO_VARIABLEder\" and not evalvarder in dicc_var: # error\n",
        "      #print(f\"ERROR: Variable indefinida '{evalvarder}'\")\n",
        "\n",
        "\n",
        "\n",
        "    #if ESTADO2==\"EVALUANDO_VARIABLEizq\" and not evalvarizq in dicc_var: # error\n",
        "      #print(f\"ERROR: Variable indefinida '{evalvarizq}'\")\n",
        "\n",
        "\n",
        "\n",
        "    #if ESTADO2==\"EVALUANDO_VARIABLEder\" and evalvarder in dicc_var: # Evaluamos la variable que está despues de operar\n",
        "      #segundonumero=dicc_var[evalvarder]\n",
        "      #if False:\n",
        "       # evalvarder=\"\"\n",
        "\n",
        "\n",
        "\n",
        "\n",
        "\n",
        "    #if ESTADO2==\"EVALUANDO_VARIABLEizq\" and evalvarizq in dicc_var: # Evaluamos la variable encontrada antes de operar\n",
        "     # primernumero=dicc_var[evalvarizq]\n",
        "     # evalvarizq=\"\"\n",
        "     # print(primernumero)\n",
        "\n",
        "\n",
        "\n",
        "\n",
        "\n",
        "\n",
        "\n",
        "\n",
        "\n",
        "\n",
        "  if segundonumero!=\"\": # Operamos el útimo\n",
        "      if operacion==\"+\":\n",
        "        primernumero=str(int(primernumero)+int(segundonumero))\n",
        "      elif operacion==\"-\":\n",
        "        primernumero=int(primernumero)-int(segundonumero)\n",
        "      elif operacion==\"*\":\n",
        "        primernumero=int(primernumero)*int(segundonumero)\n",
        "      elif operacion==\"/\":\n",
        "        primernumero=math.trunc(int(primernumero)/int(segundonumero))\n",
        "      elif operacion==\"^\":\n",
        "        primernumero=int(primernumero)**int(segundonumero)\n",
        "  #print(primernumero)\n",
        "\n",
        "  dicc_var[variable]=str(primernumero)\n",
        "\n",
        "  # procesa el comando e imprime el resultado\n",
        "  return dicc_var\n",
        "\n",
        "def calculadora(lista_comandos):\n",
        "  # Este diccionario almacena las variables que se vayan definiendo en la calculadora\n",
        "  # Este diccionario se inicializa cuando se usa la calculadora\n",
        "  vars = dict()\n",
        "\n",
        "  # Se procesan todos los comandos de la lista (lista de string)\n",
        "  for i in range(0, len(lista_comandos)):\n",
        "    vars = procesar_comando(lista_comandos[i], vars)\n"
      ],
      "metadata": {
        "id": "_ErWcgGJfhQZ"
      },
      "execution_count": 65,
      "outputs": []
    },
    {
      "cell_type": "code",
      "source": [
        "\n",
        "calculadora([\"comadre_lola=1-4^2\",\"peo=4*3\",\"u=peo-comadre_lola2\"])\n",
        "\n",
        "#procesar_comando(\"x=3*comadre_lola\",{'comadre_lola': \"9\", 'peo': \"12\"})\n",
        "\n",
        "\n",
        "#procesar_comando(\"y=2*peo-20\",{\"peo\":\"6084\",\"comadre_lola\":\"10\"})\n",
        "\n",
        "#calculadora([\"peo=32+46^2\",\"y=2*peo-20\",\"z=y*2\",\"u=peo-z\",\"h=u+peo+y\"])"
      ],
      "metadata": {
        "colab": {
          "base_uri": "https://localhost:8080/"
        },
        "id": "MoMZ6LFuMN6g",
        "outputId": "126c68f6-1878-4604-bf18-3b102f95afcd"
      },
      "execution_count": 45,
      "outputs": [
        {
          "output_type": "stream",
          "name": "stdout",
          "text": [
            "comadre_lola=1-4^2\n",
            "peo=4*3\n",
            "u=peo-comadre_lola2\n"
          ]
        }
      ]
    },
    {
      "cell_type": "markdown",
      "source": [
        "## Ejemplo 1"
      ],
      "metadata": {
        "id": "bJRKyHEBtUN5"
      }
    },
    {
      "cell_type": "code",
      "source": [
        "\n",
        "# EJEMPLO 1:\n",
        "lista = [\"n=5\",\"hanoi=2^n-1\",\"var_1 = 23 - 13 + hanoi * 2\",\"h2 = hanoi /2\",\"\",\"n\"]\n",
        "calculadora(lista)\n"
      ],
      "metadata": {
        "id": "0w4sivX3tWiH",
        "colab": {
          "base_uri": "https://localhost:8080/"
        },
        "outputId": "1c6dfb15-5796-49bc-9219-7b1d1aa316f7"
      },
      "execution_count": null,
      "outputs": [
        {
          "output_type": "stream",
          "name": "stdout",
          "text": [
            "n=5\n",
            "5\n",
            "hanoi=2^n-1\n",
            "31\n",
            "var_1 = 23 - 13 + hanoi * 2\n",
            "82\n",
            "h2 = hanoi /2\n",
            "15\n",
            "\n",
            "\n",
            "n\n",
            "\n"
          ]
        }
      ]
    },
    {
      "cell_type": "markdown",
      "source": [
        "El resultado del ejemplo anterior debería imprimir en pantalla\n",
        "\n",
        "   n=5\n",
        "\n",
        "   5\n",
        "\n",
        "   hanoi=2^n-1\n",
        "   \n",
        "   31\n",
        "\n",
        "   var_1 = 23 - 13 + hanoi * 2\n",
        "   \n",
        "   82\n",
        "\n",
        "   h2 = hanoi /2\n",
        "   \n",
        "   15\n",
        "\n",
        "   n\n",
        "   \n",
        "   5\n",
        "\n"
      ],
      "metadata": {
        "id": "ImyhxzK8g3Aw"
      }
    },
    {
      "cell_type": "markdown",
      "source": [
        "## Ejemplo 2"
      ],
      "metadata": {
        "id": "FD6ugFUBta2Q"
      }
    },
    {
      "cell_type": "markdown",
      "source": [],
      "metadata": {
        "id": "9J0SoK_AGZGh"
      }
    },
    {
      "cell_type": "code",
      "source": [
        "# EJEMPLO 1:\n",
        "lista = [\"n=5\",\"hanoi=2^n-1\",\"var_1 = 23 - 13 + hanoi2 * 2\",\"h2 = hanoi /2\",\"\",\"n\"]\n",
        "calculadora(lista)"
      ],
      "metadata": {
        "id": "omeD7qbcthMR",
        "colab": {
          "base_uri": "https://localhost:8080/",
          "height": 425
        },
        "outputId": "b0ffb79c-81d2-4a91-caac-b87cef2d942e"
      },
      "execution_count": null,
      "outputs": [
        {
          "output_type": "stream",
          "name": "stdout",
          "text": [
            "n=5\n",
            "5\n",
            "hanoi=2^n-1\n",
            "31\n",
            "var_1 = 23 - 13 + hanoi2 * 2\n",
            "ERROR: Variable indefinida 'hanoi2 '\n"
          ]
        },
        {
          "output_type": "error",
          "ename": "ValueError",
          "evalue": "invalid literal for int() with base 10: ' '",
          "traceback": [
            "\u001b[0;31m---------------------------------------------------------------------------\u001b[0m",
            "\u001b[0;31mValueError\u001b[0m                                Traceback (most recent call last)",
            "\u001b[0;32m<ipython-input-224-19bb58e3344e>\u001b[0m in \u001b[0;36m<cell line: 3>\u001b[0;34m()\u001b[0m\n\u001b[1;32m      1\u001b[0m \u001b[0;31m# EJEMPLO 1:\u001b[0m\u001b[0;34m\u001b[0m\u001b[0;34m\u001b[0m\u001b[0m\n\u001b[1;32m      2\u001b[0m \u001b[0mlista\u001b[0m \u001b[0;34m=\u001b[0m \u001b[0;34m[\u001b[0m\u001b[0;34m\"n=5\"\u001b[0m\u001b[0;34m,\u001b[0m\u001b[0;34m\"hanoi=2^n-1\"\u001b[0m\u001b[0;34m,\u001b[0m\u001b[0;34m\"var_1 = 23 - 13 + hanoi2 * 2\"\u001b[0m\u001b[0;34m,\u001b[0m\u001b[0;34m\"h2 = hanoi /2\"\u001b[0m\u001b[0;34m,\u001b[0m\u001b[0;34m\"\"\u001b[0m\u001b[0;34m,\u001b[0m\u001b[0;34m\"n\"\u001b[0m\u001b[0;34m]\u001b[0m\u001b[0;34m\u001b[0m\u001b[0;34m\u001b[0m\u001b[0m\n\u001b[0;32m----> 3\u001b[0;31m \u001b[0mcalculadora\u001b[0m\u001b[0;34m(\u001b[0m\u001b[0mlista\u001b[0m\u001b[0;34m)\u001b[0m\u001b[0;34m\u001b[0m\u001b[0;34m\u001b[0m\u001b[0m\n\u001b[0m",
            "\u001b[0;32m<ipython-input-222-056c2183b093>\u001b[0m in \u001b[0;36mcalculadora\u001b[0;34m(lista_comandos)\u001b[0m\n\u001b[1;32m    137\u001b[0m   \u001b[0;31m# Se procesan todos los comandos de la lista (lista de string)\u001b[0m\u001b[0;34m\u001b[0m\u001b[0;34m\u001b[0m\u001b[0m\n\u001b[1;32m    138\u001b[0m   \u001b[0;32mfor\u001b[0m \u001b[0mi\u001b[0m \u001b[0;32min\u001b[0m \u001b[0mrange\u001b[0m\u001b[0;34m(\u001b[0m\u001b[0;36m0\u001b[0m\u001b[0;34m,\u001b[0m \u001b[0mlen\u001b[0m\u001b[0;34m(\u001b[0m\u001b[0mlista_comandos\u001b[0m\u001b[0;34m)\u001b[0m\u001b[0;34m)\u001b[0m\u001b[0;34m:\u001b[0m\u001b[0;34m\u001b[0m\u001b[0;34m\u001b[0m\u001b[0m\n\u001b[0;32m--> 139\u001b[0;31m     \u001b[0mvars\u001b[0m \u001b[0;34m=\u001b[0m \u001b[0mprocesar_comando\u001b[0m\u001b[0;34m(\u001b[0m\u001b[0mlista_comandos\u001b[0m\u001b[0;34m[\u001b[0m\u001b[0mi\u001b[0m\u001b[0;34m]\u001b[0m\u001b[0;34m,\u001b[0m \u001b[0mvars\u001b[0m\u001b[0;34m)\u001b[0m\u001b[0;34m\u001b[0m\u001b[0;34m\u001b[0m\u001b[0m\n\u001b[0m",
            "\u001b[0;32m<ipython-input-222-056c2183b093>\u001b[0m in \u001b[0;36mprocesar_comando\u001b[0;34m(comando, dicc_var)\u001b[0m\n\u001b[1;32m    114\u001b[0m   \u001b[0;32mif\u001b[0m \u001b[0msegundonumero\u001b[0m\u001b[0;34m!=\u001b[0m\u001b[0;34m\"\"\u001b[0m\u001b[0;34m:\u001b[0m\u001b[0;34m\u001b[0m\u001b[0;34m\u001b[0m\u001b[0m\n\u001b[1;32m    115\u001b[0m       \u001b[0;32mif\u001b[0m \u001b[0moperacion\u001b[0m\u001b[0;34m==\u001b[0m\u001b[0;34m\"+\"\u001b[0m\u001b[0;34m:\u001b[0m\u001b[0;34m\u001b[0m\u001b[0;34m\u001b[0m\u001b[0m\n\u001b[0;32m--> 116\u001b[0;31m         \u001b[0mprimernumero\u001b[0m\u001b[0;34m=\u001b[0m\u001b[0mstr\u001b[0m\u001b[0;34m(\u001b[0m\u001b[0mint\u001b[0m\u001b[0;34m(\u001b[0m\u001b[0mprimernumero\u001b[0m\u001b[0;34m)\u001b[0m\u001b[0;34m+\u001b[0m\u001b[0mint\u001b[0m\u001b[0;34m(\u001b[0m\u001b[0msegundonumero\u001b[0m\u001b[0;34m)\u001b[0m\u001b[0;34m)\u001b[0m\u001b[0;34m\u001b[0m\u001b[0;34m\u001b[0m\u001b[0m\n\u001b[0m\u001b[1;32m    117\u001b[0m       \u001b[0;32melif\u001b[0m \u001b[0moperacion\u001b[0m\u001b[0;34m==\u001b[0m\u001b[0;34m\"-\"\u001b[0m\u001b[0;34m:\u001b[0m\u001b[0;34m\u001b[0m\u001b[0;34m\u001b[0m\u001b[0m\n\u001b[1;32m    118\u001b[0m         \u001b[0mprimernumero\u001b[0m\u001b[0;34m=\u001b[0m\u001b[0mint\u001b[0m\u001b[0;34m(\u001b[0m\u001b[0mprimernumero\u001b[0m\u001b[0;34m)\u001b[0m\u001b[0;34m-\u001b[0m\u001b[0mint\u001b[0m\u001b[0;34m(\u001b[0m\u001b[0msegundonumero\u001b[0m\u001b[0;34m)\u001b[0m\u001b[0;34m\u001b[0m\u001b[0;34m\u001b[0m\u001b[0m\n",
            "\u001b[0;31mValueError\u001b[0m: invalid literal for int() with base 10: ' '"
          ]
        }
      ]
    },
    {
      "cell_type": "markdown",
      "source": [
        "El resultado del ejemplo anterior debería imprimir en pantalla\n",
        "\n",
        "n=5\n",
        "\n",
        "5\n",
        "\n",
        "hanoi=2^n-1\n",
        "\n",
        "31\n",
        "\n",
        "var_1 = 23 - 13 + hanoi2 * 2\n",
        "\n",
        "ERROR: variable indefinida \"hanoi2\"\n",
        "\n",
        "h2 = hanoi /2\n",
        "\n",
        "15\n",
        "\n",
        "n\n",
        "\n",
        "5"
      ],
      "metadata": {
        "id": "Ig7zCv9stmXy"
      }
    },
    {
      "cell_type": "markdown",
      "source": [
        "## ¿Qué hay que entregar?\n",
        "\n",
        "En esta tarea Usted DEBE entregar, además del programa que implementa la solución, el dibujo que muestra el diagrama de estados que implementa su programa. Esto debe hacerse subiendo un archivo separado (cualquier tipo de documento que pueda contener una imagen o un dibujo, por ejemplo, un PDF, el escaneo de una página donde dibujó a mano el diagrama, etc.).\n",
        "\n",
        " Tal como se ha hecho en tareas anteriores, para su programa usted debe crear una copia de este documento (del menú seleccionar \"Archivo\" o \"File\" y de ahi la opción \"guardar copia en Drive\" o \"save a copy in Drive\"). Este nuevo documento (notebook de Colab) es el que debe modificar para luego compartirlo con la opción \"Cualquier usuario de internet con este enlace puede ver esto\" (o “Anyone on the internet with this link can view”). Esta opción se encuentra disponible en la parte superior derecha de su notebook, en el botón \"Compartir\" (o \"Share\"). Una vez que tenga disponible el enlace, colocarlo en en el lugar de comentarios de la entrega de su tarea (en este caso, como comentario del archvo con el diagrama). No olvide colocar su nombre dentro del notebook.\n",
        "\n",
        " Se puede optar por el 70% de la nota si se implementa todo lo solicitado en el enunciado excepto el manejo de paréntesis. Esto implica que el cálculo de las expresiones deberá realizarse estrictamente de izquierda a derecha, sin considerar la precedencia de operadores. En este caso, las expresiones no incluirán paréntesis anidados ni simples, por lo que no es necesario diseñar un sistema que los procese. El resto de las funcionalidades, como la definición de variables, los operadores permitidos y la detección de errores, deben implementarse completamente."
      ],
      "metadata": {
        "id": "4Qy53sN95hDF"
      }
    }
  ]
}